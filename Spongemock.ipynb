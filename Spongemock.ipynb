{
 "cells": [
  {
   "cell_type": "code",
   "execution_count": 1,
   "metadata": {},
   "outputs": [],
   "source": [
    "# Import necessary library\n",
    "\n",
    "import random"
   ]
  },
  {
   "cell_type": "code",
   "execution_count": 2,
   "metadata": {},
   "outputs": [],
   "source": [
    "def replace(output_text):\n",
    "    output_text2 = \"\"\n",
    "    for char in output_text:\n",
    "        if char.isalpha():\n",
    "            if char == 'o':\n",
    "                output_text2 += char.replace(\"o\",\"0\")\n",
    "            elif char == 'O':\n",
    "                output_text2 += char.replace(\"O\", \"0\")\n",
    "            elif char == \"e\":\n",
    "                output_text2 += char.replace(\"e\",\"3\")\n",
    "            elif char == \"E\":\n",
    "                output_text2 += char.replace(\"E\",\"3\")\n",
    "            else:\n",
    "                output_text2 += char\n",
    "        else: output_text2 += char\n",
    "    return output_text2"
   ]
  },
  {
   "cell_type": "code",
   "execution_count": 3,
   "metadata": {},
   "outputs": [],
   "source": [
    "def spongemock(input_text):\n",
    "    output_text = \"\"\n",
    "    for char in input_text:\n",
    "        if char.isalpha():\n",
    "            if random.random() > 0.5:\n",
    "                output_text += char.upper()\n",
    "            else:\n",
    "                output_text += char.lower()\n",
    "        else:\n",
    "            output_text += char\n",
    "    output_text2 = replace(output_text)\n",
    "    return output_text2\n",
    "\n",
    "# blatantly took this from https://www.geeksforgeeks.org/spongebob-mocking-text-generator-python/"
   ]
  },
  {
   "cell_type": "code",
   "execution_count": 4,
   "metadata": {},
   "outputs": [],
   "source": [
    "input_text1 = \"The quick brown fox jumps over the lazy dog.\"\n",
    "input_text2 = \"This sentence is to test the function.\""
   ]
  },
  {
   "cell_type": "code",
   "execution_count": 5,
   "metadata": {},
   "outputs": [
    {
     "name": "stdout",
     "output_type": "stream",
     "text": [
      "tH3 QuICk Br0wN f0x jumps 0v3R tH3 laZy D0G.\n",
      "thIS s3NT3nC3 IS T0 t3ST TH3 funCTI0n.\n"
     ]
    }
   ],
   "source": [
    "print(spongemock(input_text1))\n",
    "print(spongemock(input_text2))"
   ]
  },
  {
   "cell_type": "code",
   "execution_count": 6,
   "metadata": {},
   "outputs": [
    {
     "data": {
      "text/plain": [
       "'THANK y0U F0r RuinInG iT f0r m3'"
      ]
     },
     "execution_count": 6,
     "metadata": {},
     "output_type": "execute_result"
    }
   ],
   "source": [
    "spongemock(\"thank you for ruining it for me\")"
   ]
  },
  {
   "cell_type": "code",
   "execution_count": 7,
   "metadata": {},
   "outputs": [
    {
     "data": {
      "text/plain": [
       "''"
      ]
     },
     "execution_count": 7,
     "metadata": {},
     "output_type": "execute_result"
    }
   ],
   "source": [
    "spongemock(\"\")"
   ]
  },
  {
   "cell_type": "code",
   "execution_count": 8,
   "metadata": {},
   "outputs": [
    {
     "data": {
      "text/plain": [
       "''"
      ]
     },
     "execution_count": 8,
     "metadata": {},
     "output_type": "execute_result"
    }
   ],
   "source": [
    "spongemock(\"\")"
   ]
  },
  {
   "cell_type": "code",
   "execution_count": null,
   "metadata": {},
   "outputs": [],
   "source": []
  }
 ],
 "metadata": {
  "kernelspec": {
   "display_name": "Python 3",
   "language": "python",
   "name": "python3"
  },
  "language_info": {
   "codemirror_mode": {
    "name": "ipython",
    "version": 3
   },
   "file_extension": ".py",
   "mimetype": "text/x-python",
   "name": "python",
   "nbconvert_exporter": "python",
   "pygments_lexer": "ipython3",
   "version": "3.8.5"
  }
 },
 "nbformat": 4,
 "nbformat_minor": 4
}
