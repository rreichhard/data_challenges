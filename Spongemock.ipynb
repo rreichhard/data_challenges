{
 "cells": [
  {
   "cell_type": "code",
   "execution_count": 1,
   "metadata": {},
   "outputs": [],
   "source": [
    "# Import necessary library\n",
    "\n",
    "import random"
   ]
  },
  {
   "cell_type": "code",
   "execution_count": 2,
   "metadata": {},
   "outputs": [],
   "source": [
    "def spongemock(input_text):\n",
    "    output_text = \"\"\n",
    "    for char in input_text:\n",
    "        if char.isalpha():\n",
    "            if random.random() > 0.5:\n",
    "                output_text += char.upper()\n",
    "            else:\n",
    "                output_text += char.lower()\n",
    "        else:\n",
    "            output_text += char\n",
    "    return output_text\n",
    "\n",
    "# blatantly took this from https://www.geeksforgeeks.org/spongebob-mocking-text-generator-python/"
   ]
  },
  {
   "cell_type": "code",
   "execution_count": 3,
   "metadata": {},
   "outputs": [],
   "source": [
    "input_text1 = \"The quick brown fox jumps over the lazy dog.\"\n",
    "input_text2 = \"This sentence is to test the function.\""
   ]
  },
  {
   "cell_type": "code",
   "execution_count": 4,
   "metadata": {},
   "outputs": [
    {
     "name": "stdout",
     "output_type": "stream",
     "text": [
      "tHe QuICK BrowN foX Jumps oVeR THE lAZy doG.\n",
      "THIS SEntENcE Is tO tesT THE funCTioN.\n"
     ]
    }
   ],
   "source": [
    "print(spongemock(input_text1))\n",
    "print(spongemock(input_text2))"
   ]
  },
  {
   "cell_type": "code",
   "execution_count": 5,
   "metadata": {},
   "outputs": [
    {
     "data": {
      "text/plain": [
       "\"yeaH BosS...i'lL BE super SUre to Get That DOne ASAp.\""
      ]
     },
     "execution_count": 5,
     "metadata": {},
     "output_type": "execute_result"
    }
   ],
   "source": [
    "spongemock(\"Yeah Boss...I'll be super sure to get that done ASAP.\")"
   ]
  },
  {
   "cell_type": "code",
   "execution_count": null,
   "metadata": {},
   "outputs": [],
   "source": []
  }
 ],
 "metadata": {
  "kernelspec": {
   "display_name": "Python 3",
   "language": "python",
   "name": "python3"
  },
  "language_info": {
   "codemirror_mode": {
    "name": "ipython",
    "version": 3
   },
   "file_extension": ".py",
   "mimetype": "text/x-python",
   "name": "python",
   "nbconvert_exporter": "python",
   "pygments_lexer": "ipython3",
   "version": "3.8.5"
  }
 },
 "nbformat": 4,
 "nbformat_minor": 4
}
