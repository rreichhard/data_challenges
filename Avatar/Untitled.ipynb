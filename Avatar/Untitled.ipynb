{
 "cells": [
  {
   "cell_type": "code",
   "execution_count": 1,
   "id": "282d0b32-5ea9-46a3-af12-b00e0be414e1",
   "metadata": {},
   "outputs": [],
   "source": [
    "import keras\n",
    "from keras import layers\n",
    "import pandas as pd\n",
    "import numpy as np\n",
    "import json\n",
    "import matplotlib.pyplot as plt\n",
    "import codecs\n",
    "import random\n",
    "import sys"
   ]
  },
  {
   "cell_type": "code",
   "execution_count": 2,
   "id": "ad3a2daf-5a8c-4aaf-b250-0e783b2969e7",
   "metadata": {},
   "outputs": [],
   "source": [
    "with codecs.open('avatar_fulltextjson.json','r','utf-8-sig') as data:\n",
    "    text = json.load(data).lower()"
   ]
  },
  {
   "cell_type": "code",
   "execution_count": 3,
   "id": "b905f34c-8487-4a19-80ea-73ba25abeae1",
   "metadata": {},
   "outputs": [
    {
     "name": "stdout",
     "output_type": "stream",
     "text": [
      "Corpus Length: 1814811\n"
     ]
    }
   ],
   "source": [
    "print('Corpus Length:',len(text))"
   ]
  },
  {
   "cell_type": "code",
   "execution_count": 4,
   "id": "b26264d0-95d9-485b-a132-d13ec1db27b1",
   "metadata": {},
   "outputs": [
    {
     "name": "stdout",
     "output_type": "stream",
     "text": [
      "Number of sequences: 604917\n",
      "Unique characters: 55\n",
      "Vectorization...\n"
     ]
    },
    {
     "name": "stderr",
     "output_type": "stream",
     "text": [
      "<ipython-input-4-414f9227a6c5>:26: DeprecationWarning: `np.bool` is a deprecated alias for the builtin `bool`. To silence this warning, use `bool` by itself. Doing this will not modify any behavior and is safe. If you specifically wanted the numpy scalar type, use `np.bool_` here.\n",
      "Deprecated in NumPy 1.20; for more details and guidance: https://numpy.org/devdocs/release/1.20.0-notes.html#deprecations\n",
      "  x = np.zeros((len(sentences), maxlen, len(chars)), dtype=np.bool)\n",
      "<ipython-input-4-414f9227a6c5>:27: DeprecationWarning: `np.bool` is a deprecated alias for the builtin `bool`. To silence this warning, use `bool` by itself. Doing this will not modify any behavior and is safe. If you specifically wanted the numpy scalar type, use `np.bool_` here.\n",
      "Deprecated in NumPy 1.20; for more details and guidance: https://numpy.org/devdocs/release/1.20.0-notes.html#deprecations\n",
      "  y = np.zeros((len(sentences), len(chars)), dtype=np.bool)\n"
     ]
    }
   ],
   "source": [
    "# Length of extracted character sequences\n",
    "maxlen = 60\n",
    "\n",
    "# We sample a new sequence every `step` characters\n",
    "step = 3\n",
    "\n",
    "# This holds our extracted sequences\n",
    "sentences = []\n",
    "\n",
    "# This holds the targets (the follow-up characters)\n",
    "next_chars = []\n",
    "\n",
    "for i in range(0, len(text) - maxlen, step):\n",
    "    sentences.append(text[i: i + maxlen])\n",
    "    next_chars.append(text[i + maxlen])\n",
    "print('Number of sequences:', len(sentences))\n",
    "\n",
    "# List of unique characters in the corpus\n",
    "chars = sorted(list(set(text)))\n",
    "print('Unique characters:', len(chars))\n",
    "# Dictionary mapping unique characters to their index in `chars`\n",
    "char_indices = dict((char, chars.index(char)) for char in chars)\n",
    "\n",
    "# Next, one-hot encode the characters into binary arrays.\n",
    "print('Vectorization...')\n",
    "x = np.zeros((len(sentences), maxlen, len(chars)), dtype=np.bool)\n",
    "y = np.zeros((len(sentences), len(chars)), dtype=np.bool)\n",
    "for i, sentence in enumerate(sentences):\n",
    "    for t, char in enumerate(sentence):\n",
    "        x[i, t, char_indices[char]] = 1\n",
    "    y[i, char_indices[next_chars[i]]] = 1"
   ]
  },
  {
   "cell_type": "code",
   "execution_count": 5,
   "id": "f9046754-e100-428c-8332-af41c00e310d",
   "metadata": {},
   "outputs": [],
   "source": [
    "model = keras.models.Sequential()\n",
    "model.add(layers.LSTM(128, input_shape=(maxlen, len(chars))))\n",
    "model.add(layers.Dense(len(chars), activation='softmax'))"
   ]
  },
  {
   "cell_type": "code",
   "execution_count": 6,
   "id": "e2b43c55-2415-4631-9199-53a83e6fc057",
   "metadata": {},
   "outputs": [
    {
     "name": "stderr",
     "output_type": "stream",
     "text": [
      "C:\\Users\\chels\\anaconda3\\lib\\site-packages\\keras\\optimizers\\optimizer_v2\\rmsprop.py:143: UserWarning: The `lr` argument is deprecated, use `learning_rate` instead.\n",
      "  super().__init__(name, **kwargs)\n"
     ]
    }
   ],
   "source": [
    "optimizer = keras.optimizers.RMSprop(lr=0.01)\n",
    "model.compile(loss='categorical_crossentropy', optimizer=optimizer)"
   ]
  },
  {
   "cell_type": "code",
   "execution_count": 7,
   "id": "79c1dfbb-c45d-40a7-9202-5e88618b83a4",
   "metadata": {},
   "outputs": [],
   "source": [
    "def sample(preds, temperature=1.0):\n",
    "    preds = np.asarray(preds).astype('float64')\n",
    "    preds = np.log(preds) / temperature\n",
    "    exp_preds = np.exp(preds)\n",
    "    preds = exp_preds / np.sum(exp_preds)\n",
    "    probas = np.random.multinomial(1, preds, 1)\n",
    "    return np.argmax(probas)"
   ]
  },
  {
   "cell_type": "code",
   "execution_count": 8,
   "id": "82b64471-3894-4dee-a62a-1284cdad3da8",
   "metadata": {},
   "outputs": [
    {
     "name": "stdout",
     "output_type": "stream",
     "text": [
      "epoch 1\n",
      "4726/4726 [==============================] - 306s 64ms/step - loss: 1.6034\n",
      "--- Generating with seed: \"ocean surface. a fish appears out of nowhere and slaps sokka\"\n",
      "------ temperature: 0.5\n",
      "ocean surface. a fish appears out of nowhere and slaps sokka. cuts to shot of the panners. cut to a shot of the group and starts from the statue of the shot of aang with be sokka and you the coming the camera pans to the through the fire blasts. sokka and katara walks to the toph. aang stares and is starts the carrials. [and while the fire lord's foot to aang and passes a contreding the prince of a smile the water to see the statue. i'm make it falls of the stands of stor before katara and the tinning are and can't starts around the way. [sits the closer of the swide shows the rests look on the scene off and the camera cuts to a shot of the coress and katara lise-up and aang with the ship. a fire blast of the streat before the stands of the than stands on the tire of the topher in sokka and the door and the traise surprised. aang is seeing him and aang in the true to the camera pans to the carries are the sky. the camera cuts to a shot of the boy of the ground, and zuko shows a shot of the carry.] we had be follows the and the three some of the\n",
      "------ temperature: 0.75\n",
      " the carry.] we had be follows the and the three some of the past clipithing to come around to show and katara lids on a sightor mores the ship. [has come or beally team areas following up and passes his feeting showing on the fire, his shoulder. he thot the tears and confusedly.] we starting a bardels bediearim of the surprised by the walk the lind of the melans's side. [cut to a closer of a to take the glaces and boshing away from mailewh. iroh is more by are to make behind to angry a water in a from him. cut fullefly coysed. the nutsand, a give and swe appa starts its around the fire nation. cut to an over the backward. she only drips a signiver. as iroh's fiblice. cut to a creft as can has face.] katara beeneash her to stands on the shoulderise but and sokka to get the figures and iftale on and shift. if you can't have i won't follat confolly surprised talks across to be fire baarived. [aang asseper as the black at airship on the flash.] i fan it is gosued a strays of this probage his disappearing launs. i be palasedly. [restang man backs o\n",
      "------ temperature: 1.0\n",
      "his disappearing launs. i be palasedly. [restang man backs of the hareing on and resesses arearvals aang udly. ever the guade backgrous become supprinting alounds. i guards a crtared. the call that fisher. i work of ed. so, i'm have sings out. life working on the taboles and welcome. aang, aang you do you for go spets in fear a man begir. [he pricies his tree.] i hade. the treading instures. his shousde pa in, peams ... the even sive their. cut to katara tries aream barrioven in on the hid where stares the siy. acliging buch with a swirctle.] lookara. aang hand, annoyad. cut to a city. ig]ike the glance panners. very if and ssebs walananing by the bereate appa starts ares stunning away. sleeps back at appa flooses the awazan. and the ground. iroh off. aang followive her and of his neacherhy.] keoddry otain. ... ewcome. jee, we it's of husly, reading toward crazakisped to contryed to wurin's that. it embit, is you'll heard parsstill. aang as it shight as [roksingces.] scene changes of the purns aw open ariss. confudedly, before bags. [[libracing\n",
      "epoch 2\n",
      "4726/4726 [==============================] - 291s 62ms/step - loss: 1.3610\n",
      "--- Generating with seed: \"stones. he pulls out a sheet of paper and looks at it for a \"\n",
      "------ temperature: 0.5\n",
      "stones. he pulls out a sheet of paper and looks at it for a final blind side. she comes and stands on his grent of him. the camera pans to side-view of aang and aang and the table, sokka and katara walking to the fire nation. flieger and the sun poster, and the scene changes to the ship. it's the ship. sokka is standing at the please. [cuts to a close-up of his eyes are ship and aang is shocking on the deam. he zukons the ship and katara and sokka faces him behind the shot from a more so place of the corners. she was his stream in the entire, hang became back in the firebender of the snots to the ground, the camera pans down the shill earth tent. it begins back a shot of the annoyed by her offentically. cuts to a wide several begrily. the avatar comes from behind and saddles to start and stands over to the ship. aang makes his ship. the donter out of the boll. a bradured your ship. [stands up to a frontal shot of aang from the rock in the airships. i have of to the fire nation and the getting to the burning standing as the scene changes to a sh\n",
      "------ temperature: 0.75\n",
      "getting to the burning standing as the scene changes to a shot pushes aang push the present falls her fongess, toph and sokka. my stably. i need a earth tind world-somes here. [stands over the her prence to flying to air ship.] i'm sure? it's take for him, what earth begars the grab suspistalite and knocked andsize. he and katara at katara tired his pain over the attace of zuko. holding his hance with a knowed, says sure sumplarmed where it walls his boulder of bloce her eyes so use the mast stand on the hist. cuts to shot of the pain jeong. excate-way from the sky down, planically, which zukons from back at the scene.] a down we just rud. [surprised.] the scene changes to the everyone. if just this beart. i'm roku, that you could me and hang worry another guys over the shell over any a final jecht visor. [the scene cuts to show aang mai as the camera hoosss the ond. the scene cuts to a fire blast, [cuts to show them behind.] i don't wan't to lought irmideratable! i express aang in. be the news? our chacks interent rightbended to pretty, she is\n",
      "------ temperature: 1.0\n",
      " the news? our chacks interent rightbended to pretty, she is was like the stances, land mem you suembep iny int? going sokkady. this sokey! we're i sing believe. but surprised. [choses brutter.] [closes katara ungrables.] cuts to an earth shot, a lowion i'm ward of anitneaged camp. [approaks and gozer. cut to appa. cut to air side.] suki lihhes burn at aang, daday? lets has chieb, we mam openate? i'm doing for coptly loum to down it. you what you four the [angle is cliffs an expression sence.] serue. these mukes of him. you want some, yeard other smile asme teach i perely by way to the roll wormilf and sokka smile, out of front of the water mounted from and his and shelcus at each othero. lightnings helphes. he leags to swirt.] he its in the dock learn roum our fight back, he of listicious the only land back on the blast of by a eusid wall. what is stream! by  and the only course. the scone stands to the disgust atthe grention us about the fureled with him. aang. i ed[cun is warrior and ready sompred. he and azula, as he stirts to avatar a'l he\n",
      "epoch 3\n",
      "4726/4726 [==============================] - 298s 63ms/step - loss: 1.3128\n",
      "--- Generating with seed: \"remember this! [kisses sokka on the cheek.] suki! [embraces \"\n",
      "------ temperature: 0.5\n",
      "remember this! [kisses sokka on the cheek.] suki! [embraces his swords and continues around.] a camera lands down him. [screen and aang fling the field and realizes the shop shot of her shoulder. the shore thes of the shoulder. the shock are while aang mengs and walks away and she shot's part of the green of the shore and holds a pillar again. he starts forward. the avatar sees the base. cut to an aerial shot of aang and she changes to a side-view of the ground. the wording ends and down, who sits the spirit as he opens the crowd as the shot comps of here. well, who up to the prisoner stom where a fire nation his hand and joms azula, who starts hands and starts back as the shot shot of it up and starts swipping on appa. aang starts from the screen. and shot shot of the streaming of the water. the camera zooms in his hands. he contasing him with a boulder and fire nation. he reals the water to face his hands of the airship and faces the pointing and sits to show a master and the camera passicing. he shoots and is a shoulder and flies to aang sur\n",
      "------ temperature: 0.75\n",
      "passicing. he shoots and is a shoulder and flies to aang surfalled dof briefly with the shooding jumps on earth to all inceration in the rock. the studdman pushing his arms and shot of the head his hands away. the shore and the cuty. i don't think this exits to him. [turns around, pon all jumps on the beastion.] the stage the hills his news, while aang sits around in aang. cut to a shot of the camera shown from the shore.] [pack him away.] the camera shown become on a water it be sinning of the owlmed briepelf and he sandfully is she faces the splade him. [econsing, starts toeching airbending.] you're team are a large mistorable does him. all pathing up so there. you know where to ... mong man trathy wisty for the rock, who runs to with a hand who cuts to the playjgrown at her face persents.] the snorth are bow to here with a bag oider with about the king's stop, who shouting long back of the suppressoner, who lifes him back. he looks up to help as the scene changes to reveal some blushing. the camera pans to deal. back and spressing on waters \n",
      "------ temperature: 1.0\n",
      "hing. the camera pans to deal. back and spressing on waters friend as he fives shot shut rock the  ge, reallying toph and turns hiding. cuts to urupfing that [sokka lifes happy.] it's iroh with a friendly moves that nevered up had you. sokka, who stands away and teaches. who is overheld your siblings a teachblet. obls? ... ur! zaoondmier! uh ... while cuts to shot of louds-of mosttors from as hang are and zuko hurled water backs. aang is meadalily smoke speops to even defell in! hop full lifes, the seeming slights fire nation. their headway and many laughs.] the cause distracts and gonls are back, with deald. with about horde.-aang looks tophe finger bagited yues back and fidion against a percend with momo and shot of the casuefaming. when but i think it's warn. row we prince. katara looks her new inviefty going as the tunting while sokka lip from outside.] he all who, maybe momo, were you and this tote ... [he yups, allapiulers.] the sarry meng your beach? where halt? he are not. [close-up of the crong enshead a bird man as she shicks to be aw\n",
      "epoch 4\n",
      "4726/4726 [==============================] - 322s 68ms/step - loss: 1.2859\n",
      "--- Generating with seed: \"onto the saddle. [frantically.] what's going on? camera pans\"\n",
      "------ temperature: 0.5\n",
      "onto the saddle. [frantically.] what's going on? camera pans out to show a stop of the pole food. cut to a shot of a surprised with a missing pole to his blast of the storwers. [times a shade.] i just do world the fire nation is the statue fire nation from from the call. the background and aang slide to his arms of the back and shows a shot of the town and toph and sokka and katara and sokka, who stands up and still only of the room. everyone pulls his eyes on the camera. the scene to find a standing on the room. the saddle metally stands away poor the new as stands up and stops a small and his arms and sokka stands on the wall of the lind. the two still grabs the ground and cuts to under the state. the scene cuts to a shot of the other blue small of the care of the disgust. aang closes the damage as aang and aang sitting and switches to a shot of the canyous stands to done to the old fire other side. the room of the camera pans out of the waterbends. cut to a shot of the door. the cance stands up and stands up and stands up to his way. he take\n",
      "------ temperature: 0.75\n",
      "ce stands up and stands up and stands up to his way. he takes a ship on the fire nations ponting on the last as the way of his face grans a piece protesnd in the door. the day going to her avand oriendenting. the camera zooms out of the fire nation. aang stands to sokka. as his dad slide to a screen of the panice on a stace of the tower and shaking his own return and trains from the stuck and sokka.] we mode the meet back. sokka stands in one of the liblang's strange of the stay. aang stands up out of the oil team and makings here to stay. cut to aang crazy where the shot friendly becomes up and steps up on his nderesss.] it's freen. [are angrily.] well, aang! [looks at our ride aspears stance to his room.] and don't drap his exestense and this their and sticks by the room to waterbender. toph strolls at each other his back to show aang's clouds. cut to the blast of the rave ground. cut to shot of the lemur. but is fathere. the fire nation closes stay to make it at the back in defeent. [surprised.] get anyway, we're foreshing trutts to show eve\n",
      "------ temperature: 1.0\n",
      " [surprised.] get anyway, we're foreshing trutts to show everythes to the ciewul. he lets up.] or do sokka rightened in through the final takes, hive you coatd our next in his tanking at yound needdy out howing foods appa and follows his fare look away. two fisrely happen while the area, firebend in the openlight walk to the one sentsubsly, comes out of the bi down.\\r\\nunsho rises shock a clutrs. aang staps to show annoyad, wave oht sure villagule a vibe bitters out of the day for teach down covers azula, peaking a live and bolls. appa, loned preirout is still following down. palace lands away. an one hate puts his batt, pud hil mother, but with a riped in front of the guard gone's shoulder. you away behind belice. [shows aang, pathes the rock from the penigeals at child sword. aang. zuko too one of wrong eatuncle this way woman soffally not sure zhao. the camera pans to show aang.] aang up and just. we kind of work we'll colla. that's through the avatar. zukonged that their fistion with a cloud disappear frees wide in front of the two picturin\n",
      "epoch 5\n",
      "4726/4726 [==============================] - 333s 70ms/step - loss: 1.2692\n",
      "--- Generating with seed: \"[grinning.] dinner. the scene cuts to appa swimming in the m\"\n",
      "------ temperature: 0.5\n",
      "[grinning.] dinner. the scene cuts to appa swimming in the man as he turns to the shocked at himself. the shocked stopped to the balloon while katara and aang and shift to pleashing a room of the sending fang of the ship. a switch of the shocked by the real and smiles and her hands look on his hand. cut to a close-up of the door. the camera pans to the dressed the back and nick and katara and sokka and aang and sokka and sokka looking forward and slightly as he tops the air tribe street. the shot changes to a shot of the camera. he leaving a blast as the shoulden famined to the saddle, and iroh and the avatar defensts out a truzh face his face, and confused, confurelied to start to she shocked by the ship.] and an annoyed. [closer of the dragon and toph struggers to show the one where cut to a shot of his arms his tribalf, and holding the timing of the camera peeking to his ship while the sheed leans of his back and he walks away.] it managed. [looks away to standing to two spirit at himself to a back of the side of the seat and looking at aang\n",
      "------ temperature: 0.75\n",
      "imself to a back of the side of the seat and looking at aang paince and aang seems to have high sokka, and sokka explains behind a berning brother. she sailing into a throne.] [cheers toward the two reshed at the shocked and mai chance the destroy hearing in sight at sokka. the camera he uncles of the attack caused behind aang's side of the setton. he is working it to her arms, crusite the sarrough in the call, and he joo deeps right. an all falling behind the fire nation. [an is hit still back to zuko.] good, anything to take your a side of those waiting has what? aang walks over the drops and annoyed. where giars his stone standing to where the camera he happily around a camera groaling decting really glings at her face from a bill. the smile flips a gabult of her arms accisting and she stands up and shows the door, while the airshy of his shore and he breaks her hand and zuko tops a crapp at haviving to he and a small better water into the move as the scene changes to frontal view[onkarus and looking at katara behind the lemard.] aang! [cut \n",
      "------ temperature: 1.0\n",
      "nkarus and looking at katara behind the lemard.] aang! [cut to a side-view of the volcapainfriengence to controle down the camera. himsely friends cold? [pends son.] cut to a shot shore in mo, zuko kicks to him and katara, hutle! the camera moves up to carving a chreng of lows forgive a cupoveusing a still among to him.] something not wis! all ! he moves him.] i can shhe avatar i've okay, i let onton pasnd what! do you've force  int? [poanes onto long waterfacens.] i you've want? katara manages to dialisting offered noteor overhead. [looks away.] helume now event some words. what? there's the seconds, you're too backs if you ... it's yothen an earth king you were, [cut to a shocked la to followly as he pro,nce down, help him. the shot changes to zuko, and large worried, covered sitting walking toward the ground and runs at a chest of direction.] i gatter break! [looking back.] i even large hand. n'nd please appeach. [plain walking down the side.] usle as her shocked of her tree voice. everything! ! yeah, you're the doorhapen you, we we cauch yo\n",
      "epoch 6\n",
      "4726/4726 [==============================] - 388s 82ms/step - loss: 1.2563\n",
      "--- Generating with seed: \"p and down while katara addresses her brother who still has \"\n",
      "------ temperature: 0.5\n",
      "p and down while katara addresses her brother who still has no and a move and looks at him and aang and sokka and toph and sokka and sokka with the table and slides down to the seater who closed over and and sokka stands up. are straight who lost to mean to the camera pans out of the side.] and the tries sking the camera pans away from the onco to momo to the scene cut to a frontal view of the water and walks over and stares and is scard to be some pack as the eirther saddle, where the earth king, iroh slowly and looks at himself of the town and and starts forward, up and pans out of the boulder and runs was he and sokka. cut to a shot of the way to the scene cut to a shot of song and sitting at him and blushes a beck of sun walks at her face and falls over his thim and wearing the teen in the fire nation tree to stand cut himself on a fish with the place we have here to do spear and appa and the scene cut to a pillar direction. he fades to a floor for a suddenly, causing the camera and the shot of a suddenly. cut to a shot of the fire nation w\n",
      "------ temperature: 0.75\n",
      "d the shot of a suddenly. cut to a shot of the fire nation with let's prones. but katara pakks it with himself. aang is sleeping and slides from the tops.] and suki. [side.] well, the scene changes to the water small shot of chimmact further creature from the air around the fire nation of forus lovering with it in a bright foread of her feet. it is wants a fish and sokka, stop sitting outsion from the iroh beneath the fire nation and katara and peers up some waterbending and is attacking for one of become she bars from the two tribe lows. [close-up of surm.] my ponner that you proming to waterbended to cut ! well, i'm some kotar you don't suddle that! [frontal view of the ground.] see the advants, i'm sent behind a fire danks, the funal me. [looks an airwall duffed all as he cuts to sokka to i don't help the seck. i have would be behind him before he to mire. [stands up behind him and talks at the pillars and takes a move around the sides.] but you boill sokka. we have to avoud these thing appa. so that is go rounding to ty lee process. realize\n",
      "------ temperature: 1.0\n",
      "hing appa. so that is go rounding to ty lee process. realizey. you get on them. they're afraid. i don't know us? she's the join everybody i. but a loggghts on the tribe forming twice you slight, making speal up. the camera uts the poor part of it is tolkeing an other sile of ain smile. cuts back to the southern breaking beginning to  enemain scorns.oxs. [sardivating.] o[briggers.] follow, but this long as it's secret say gire! he's you not con're homo. following. [walks up, and batts an over the side, and sinks owiting.] but. yeah, i lost these nat bear he lost away! [smiles.] i'm of it repondated, i knew od here. some of youys. [bofr; changey slides in the boat behind him energy roku behind him. he looks at the helking to kicking form, elathers, katara holds his hands. cut to a frontal view of top relons. cut to frontal view of top ovoring a handmay while zuko crostles over town, yell, and clampting in front of the spinite. o! i know! [the cheen? escon from the peefel behind the camphary. he walks forward, con! fightly brighterhing before root\n",
      "epoch 7\n",
      "4726/4726 [==============================] - 406s 86ms/step - loss: 1.2460\n",
      "--- Generating with seed: \"loudly in very discordant notes while moving dancing while s\"\n",
      "------ temperature: 0.5\n",
      "loudly in very discordant notes while moving dancing while sokka and the ships with her saddle and smiling slightly and slightly stands on the group as yeah, where have to stare to be the man as sokka and sokka and katara and sokka and the ships he and a ships, and sure and standing as aang and aang who falls to the statue from the ship. aang turns and suddenly sees his shoulder and steps to a shot from the ground. there! aang is seen side-view of the ground from the been the back of the statue and pans away to reveal the air masters. a control large street. appa stands on the way. is the tricks and pushes up to see the stecthing and stands on the hill heasbed and standing earthbending a gial as the avatar the water tries are stop the and will be streaming to terrow a cage and from the store of a mountain while aang takes on the air and stares at the beautly heard some man and the black so street. [turns around a coll.] it was that? [stretched blast and sends the scene changes to a shot of the water and faces the prison from sokka and panning a\n",
      "------ temperature: 0.75\n",
      "t of the water and faces the prison from sokka and panning a side side and hank walking around him and stands in his mother of the way in there appears on the food with the rest of a ball, and enters like his hands to name fire lord dives at the further. we a sipting way and so this a smoke something f"
     ]
    },
    {
     "name": "stderr",
     "output_type": "stream",
     "text": [
      "<ipython-input-7-66c6eecb696d>:3: RuntimeWarning: divide by zero encountered in log\n",
      "  preds = np.log(preds) / temperature\n"
     ]
    },
    {
     "name": "stdout",
     "output_type": "stream",
     "text": [
      "ollow and the avatar. you're the way to ad,it counter the fire falls of trailed. she is using inside the river. cut to a close-up with an katara is sitting at zoom to katara and sokka and his basther shappiors from a rock and is atto appear switch to aang. sokka snows it around a broth wardened just as more amount fellows a damined and filled back from the process. [surprised the glow which aang and sokka and sokka standing of the care to the approaching over a facing with a large stice in front of her. cut to a side-view of the blade from the place and places the camera closer he looks at the background.] a way a bast warmen lord wouldn't have to remend teach nice her all it so not sthe knee meats time to stare in crawl over. of warms up the avat\n",
      "------ temperature: 1.0\n",
      "knee meats time to stare in crawl over. of warms up the avatar akoda, where he aseress-watch, mountains beclefuls, only charge. air tenig imagate. [cut to shot.] aang disuges one raise! [comes speaking on the wardended name, sitting to slightning getting the stile. they backuing over her plits, by sozin to stare. before owner sliving into the teacher.] tyals a find him in three to get loude in down. the spiritles use using katara and toph picking making dorner. both wave back, her one to zuko remell it to the damaging lose before backrarps pan lower and an idea from werriul. we're tead him oyesu there around the guyly! or once guide you're terror orf see not detail, [the blinks three.] i'm you have foon. oh what? the fluse fee marchlect! it stares was the flame basthers long and nyla ten love. [your view of the head inmace clothuke to either the reach bedbay searge a fire nation house instant \\\"the sempret. [angrily.] haru is, that? we've ever get these hear it. i am sun hars up. limits on, but stary. while there's will is, don't have to dired \n",
      "epoch 8\n",
      "4726/4726 [==============================] - 462s 98ms/step - loss: 1.2382\n",
      "--- Generating with seed: \"hat. but now you're not letting yourself feel anything. i kn\"\n",
      "------ temperature: 0.5\n",
      "hat. but now you're not letting yourself feel anything. i know what is the thind to the tanky. [close-up.] the stor a statue of the water become banding a sound and having up to help a moment of the time. he stands up. the stor a street is showing the chains and they following the turn the fire nation with a blast at the stage the earth king. the plans to him and aang standing around the water. he looks at the street state, as aang stands on the water. katara opens her arms to coming him and takes the background to the camera and aang looking at the battle. cut to a shot of the air statue of the background as sokka and aang and sokka and aang standing and reads the time, he is aang as he begins to show the avatar. cuts to a shot of aang and aang and aang to a shedd water arms and she starts forward. sokka stares to a building and looking at the shadow before before he stares to show the tonches from the boat and stands at the earth kingdom of his face. the sword shows his shoulder to his shoulder and stands to the fire nation with a fire blast \n",
      "------ temperature: 0.75\n",
      "is shoulder and stands to the fire nation with a fire blast of his spead. he stays to having to need to be been and seen the shines, smiles in liftley. cut to a shot of cut at the villager.] aang just stands on his shouting state, this hands to be sightially and aang for aang exhaume in the stermistanting and fathers off. she looks at her his sword. he and appa and katara in the could some some. [the water chit attempt a nession.] this. [looks together as they was say she is nods. they believe him his feet in the storied larghtion. he is stay to the propass in the traier to see the statue of aang. aang starts around and katara has decrection but they shoom the same lining the firebender, the water briefly at the ship as aang stands on. [stands up, shaking into zuko.] how do theit staring seen wance and some little boomerang as they showing sokka baby as aang looks at the volcano. the very, holds her hand in the air fire up at the room, aang katara who nexts to the furia't moments beside a chance and it as he sighs weverartically. the camera qui\n",
      "------ temperature: 1.0\n",
      "e a chance and it as he sighs weverartically. the camera quickly offense and moves the key turning down. cuts to aang. has me good the area bending and really. close-up. aang flies and turjus after appa reduinestought from a small buttofforved disureezes. my neghi standing her hands into the ba sareadbending himpof. the destroyic! zuko shows there. they night? [stay his ladder's worders smiling, as sokka covets her hands to kick appa's surgo tosse emerge while they tury is scarries to stope the bosser and an earth in the ship. katara a! he sees not from the thirler to leaver ... [following him.] how could you calm! [turnches and water tripasts from the fleet to look in the new show at him. ever lava she fines. a yagro you have obbaling in him. [as how-sebbling points the end direction on the wall from the rock. [talking to appa, doughf at his feet in a fire some walking at the way. cut to a side-shot of aang of piseoss, aang falling the fire forupest, while aang and the choinvood besting home. zuko knocks his feet sike. the late, and throwing u\n",
      "epoch 9\n",
      "4726/4726 [==============================] - 774s 164ms/step - loss: 1.2338\n",
      "--- Generating with seed: \"s. he looks bewildered to suki. cut to a close-up of suki, h\"\n",
      "------ temperature: 0.5\n",
      "s. he looks bewildered to suki. cut to a close-up of suki, he is shown and hundredy from the background. the camera panning to the comes of the table and back at his hair, travel ship shock, where the camera cuts to zuko and the ship and starts chittering a spirit with a blast from all the moon and and appa is sitccus to the background. it's the parents encasted in the shoulder inters a south standing on a live of the trio and find the sage with his hands and starts and turns to show the group from could be little and has off the boomerang me or trailing! [cut to a shot of appa's face.] i have be a guard we need to i could me you and to see now! [to show it and zuko starts the background.] [looks back to her and starts to do stay and stands up on the background. aang down! sokka tops his face. [to the side of his shoulder and still begins to show and drops a state. well, what we would me to be sinot? uh we should be talking in the good firebending with for to hard guard and realize. sokka starts to the trio control of the village begins to head\n",
      "------ temperature: 0.75\n",
      "kka starts to the trio control of the village begins to head from the south with a face of katara, and two scoras slightly from lights begin to a statue of the group and close-up of her saddle of the bat loats. over try. the shot changes in on the side of the earth king as he hangs more to captain. you want my street! [to feel look of ice windows and walks to one of the tree brothow raises it with a ballow coubse. [and sokka as he spears her and starts hands and iroh comines momo, and peers their bag the mountain up us, aang changes from ,hit to come. the street walks off in belong tenting up him of his noteiry of the name roors. cuts to shot of she fold annoyed. zuko starts back and shalls from air hand, and nocks back to show from a turn everybone and feet in a inter behind the legge shop of the shot of sight. he village members into the moon behind his tea to get seeing to the termal. katara seens it and from the splame colleved with a little as she opens a bending the ship, but swearing pahidgening to cloud when he stops up to his glider go\n",
      "------ temperature: 1.0\n",
      "aring pahidgening to cloud when he stops up to his glider going on himself. shot closing me on thelai friending on a parentay snip and in if yip! you'll see bedgees and you bewn we despict? sokka liesnyor walks up, y\\um'toret of all a teft kind, to year you prince of aslee. this idng. [narer, turns at his head back by sun incausing wisted.] care's ail shomed, so owith jectring happing or you about downderns. cut to aang. i tray on book[se-view along behind the unifred across redugr in mess.] you diin noth does you home mod. toward her factors bank manry bades. [slightly drops.] there someone that? the out of aang's ladger. i'm doing, just lander with honortion years, suki and nollels. his elbown-repiti-tlowa! it changes to shown would attack mied fighting's point, sariou take. [expression of her own one camera romad his shirt flyering in point the firebender, and she uses to through lightmonn down thutains idea nelce.] between how you. she pulls down? is other! toph? well, has me, cut to think you're became keep! no one it impack ah cloud, you \n"
     ]
    }
   ],
   "source": [
    "for epoch in range(1, 10):\n",
    "    print('epoch', epoch)\n",
    "    # Fit the model for 1 epoch on the available training data\n",
    "    model.fit(x, y,\n",
    "              batch_size=128,\n",
    "              epochs=1)\n",
    "\n",
    "    # Select a text seed at random\n",
    "    start_index = random.randint(0, len(text) - maxlen - 1)\n",
    "    generated_text = text[start_index: start_index + maxlen]\n",
    "    print('--- Generating with seed: \"' + generated_text + '\"')\n",
    "\n",
    "    for temperature in [0.5, 0.75, 1.0]:\n",
    "        print('------ temperature:', temperature)\n",
    "        sys.stdout.write(generated_text)\n",
    "\n",
    "        # We generate 1000 characters\n",
    "        for i in range(1000):\n",
    "            sampled = np.zeros((1, maxlen, len(chars)))\n",
    "            for t, char in enumerate(generated_text):\n",
    "                sampled[0, t, char_indices[char]] = 1.\n",
    "\n",
    "            preds = model.predict(sampled, verbose=0)[0]\n",
    "            next_index = sample(preds, temperature)\n",
    "            next_char = chars[next_index]\n",
    "\n",
    "            generated_text += next_char\n",
    "            generated_text = generated_text[1:]\n",
    "\n",
    "            sys.stdout.write(next_char)\n",
    "            sys.stdout.flush()\n",
    "        print()"
   ]
  },
  {
   "cell_type": "code",
   "execution_count": null,
   "id": "28d6510e-75cd-4a2c-9bc4-d1103fed0382",
   "metadata": {},
   "outputs": [],
   "source": []
  }
 ],
 "metadata": {
  "kernelspec": {
   "display_name": "Python 3",
   "language": "python",
   "name": "python3"
  },
  "language_info": {
   "codemirror_mode": {
    "name": "ipython",
    "version": 3
   },
   "file_extension": ".py",
   "mimetype": "text/x-python",
   "name": "python",
   "nbconvert_exporter": "python",
   "pygments_lexer": "ipython3",
   "version": "3.8.8"
  }
 },
 "nbformat": 4,
 "nbformat_minor": 5
}
